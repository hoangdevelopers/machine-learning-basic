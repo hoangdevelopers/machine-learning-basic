{
 "cells": [
  {
   "cell_type": "markdown",
   "metadata": {},
   "source": [
    "# Single variable Linear regresstion"
   ]
  },
  {
   "cell_type": "code",
   "execution_count": null,
   "metadata": {},
   "outputs": [],
   "source": [
    "from numpy import *\n",
    "\n",
    "def load_data(file):\n",
    "    points = genfromtxt(file, delimiter=\",\")\n",
    "    x = points[:, 0]\n",
    "    y = points[:, 1]\n",
    "    \n",
    "    result [x, y]\n",
    "    \n",
    "def cost_function(b, m, points):\n",
    "    total_const = 0\n",
    "    n = float(len(points))\n",
    "    \n",
    "    for i in range(0, len(points)):\n",
    "        x = points[i, 0]\n",
    "        y = points[i, 1]\n",
    "        total_const += (y - (m * x + b)) ** 2\n",
    "   \n",
    "    return total_cost / n\n",
    "\n",
    "def gradient_step(b_current, m_current, points, learniung_rate)\n",
    "    n = float(len(points))\n",
    "    m_gradient = 0\n",
    "    b_gradient = 0\n",
    "    \n",
    "    for i in range(0, len(points)):\n",
    "        x = points[i, 0]\n",
    "        y = points[i, 1]\n",
    "        \n",
    "        m_gradient += - (2 / n) * (y - (m_current * x + b)) \n",
    "        b_gradient += - (2 / n) * x * (y - (m_current * x + b))\n",
    "        \n",
    "    b_new = b_current - learniung_rate * b_gradient\n",
    "    m_new = m_current - learniung_rate * m_gradient\n",
    "    \n",
    "def main():\n",
    "    data_file = 'data.csv'\n",
    "    initial_b = 0\n",
    "    initial_m = 0\n",
    "    learning_rate = 0.0001\n",
    "    number_iterations = 100\n",
    "    \n",
    "    x, y = load_data(data_file)\n",
    "\n",
    "if __name__ == '__main__':\n",
    "    main()"
   ]
  }
 ],
 "metadata": {
  "kernelspec": {
   "display_name": "Python 3",
   "language": "python",
   "name": "python3"
  },
  "language_info": {
   "codemirror_mode": {
    "name": "ipython",
    "version": 3
   },
   "file_extension": ".py",
   "mimetype": "text/x-python",
   "name": "python",
   "nbconvert_exporter": "python",
   "pygments_lexer": "ipython3",
   "version": "3.5.2"
  }
 },
 "nbformat": 4,
 "nbformat_minor": 2
}
