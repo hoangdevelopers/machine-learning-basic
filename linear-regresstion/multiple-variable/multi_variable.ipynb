{
 "cells": [
  {
   "cell_type": "code",
   "execution_count": null,
   "metadata": {
    "collapsed": true
   },
   "outputs": [],
   "source": [
    "from numpy import np\n",
    "import os\n",
    "import matplotlib.pyplot as plt"
   ]
  },
  {
   "cell_type": "code",
   "execution_count": null,
   "metadata": {},
   "outputs": [],
   "source": [
    "# curdir=os.path.dirname(__file__)\n",
    "deta_file = 'data.csv'\n"
   ]
  },
  {
   "cell_type": "code",
   "execution_count": null,
   "metadata": {},
   "outputs": [],
   "source": [
    "def draw_graph(x, y, x_label, y_label, title):\n",
    "    #Plot dataset\n",
    "    plt.scatter(x, y)\n",
    "    \n",
    "    plt.xlabel(x_label)\n",
    "    plt.ylabel(y_label)\n",
    "    plt.title(title)\n",
    "    plt.show()"
   ]
  },
  {
   "cell_type": "markdown",
   "metadata": {},
   "source": [
    "### The Dataset\n",
    "   \n",
    "   There are 67 rows of data.  The data columns include:\n",
    "\n",
    "     I,  the index;\n",
    "     A1, the rent per acre of arable land,\n",
    "     A2, the number of milk cows per square mile,\n",
    "     A3, the difference between pasturage and arable land,\n",
    "     B,  the rental price per acre for this variety of grass.\n",
    "\n",
    "   We seek a model of the form:\n",
    "\n",
    "     B = A1 * X1 + A2 * X2 + A3 * X3."
   ]
  },
  {
   "cell_type": "code",
   "execution_count": null,
   "metadata": {},
   "outputs": [],
   "source": [
    "def main():\n",
    "    data = np.genfromtxt(deta_file, delimiter=',')[:, [1, 4]]\n",
    "    \n",
    "    y = data[:, 3]\n",
    "    \n",
    "    x1 = data[:, 0]\n",
    "    x2 = data[:, 1]\n",
    "    x3 = data[:, 2]\n",
    "\n",
    "    X = np.matrix([x1, x2, x3]).T.A\n",
    "    Y = np.matrix(y).T\n",
    "\n",
    "    draw_graph(x1, y, 'A1', 'B', 'the rent per acre of arable land')\n",
    "    draw_graph(x2, y, 'A2', 'B', 'the number of milk cows per square mile')\n",
    "    draw_graph(x3, y, 'A3', 'B', 'the difference between pasturage and arable land')\n",
    "    \n",
    "    return 0\n"
   ]
  },
  {
   "cell_type": "code",
   "execution_count": null,
   "metadata": {},
   "outputs": [],
   "source": [
    "def compute_cost(W, D, learning_rate):\n",
    "    cost = 0\n",
    "    for i in range()\n",
    "    return cost\n"
   ]
  },
  {
   "cell_type": "code",
   "execution_count": null,
   "metadata": {},
   "outputs": [
    {
     "ename": "NameError",
     "evalue": "name 'main' is not defined",
     "traceback": [
      "\u001b[0;31m---------------------------------------------------------------------------\u001b[0m",
      "\u001b[0;31mNameError\u001b[0m                                 Traceback (most recent call last)",
      "\u001b[0;32m<ipython-input-1-c7bc734e5e35>\u001b[0m in \u001b[0;36m<module>\u001b[0;34m()\u001b[0m\n\u001b[1;32m      1\u001b[0m \u001b[0;32mif\u001b[0m \u001b[0m__name__\u001b[0m \u001b[0;34m==\u001b[0m \u001b[0;34m'__main__'\u001b[0m\u001b[0;34m:\u001b[0m\u001b[0;34m\u001b[0m\u001b[0m\n\u001b[0;32m----> 2\u001b[0;31m     \u001b[0mmain\u001b[0m\u001b[0;34m(\u001b[0m\u001b[0;34m)\u001b[0m\u001b[0;34m\u001b[0m\u001b[0m\n\u001b[0m",
      "\u001b[0;31mNameError\u001b[0m: name 'main' is not defined"
     ],
     "output_type": "error"
    }
   ],
   "source": [
    "if __name__ == '__main__':\n",
    "    main()\n"
   ]
  },
  {
   "cell_type": "code",
   "execution_count": null,
   "metadata": {},
   "outputs": [],
   "source": []
  }
 ],
 "metadata": {
  "kernelspec": {
   "display_name": "Python 2",
   "language": "python",
   "name": "python2"
  },
  "language_info": {
   "codemirror_mode": {
    "name": "ipython",
    "version": 2
   },
   "file_extension": ".py",
   "mimetype": "text/x-python",
   "name": "python",
   "nbconvert_exporter": "python",
   "pygments_lexer": "ipython2",
   "version": "2.7.6"
  }
 },
 "nbformat": 4,
 "nbformat_minor": 0
}
